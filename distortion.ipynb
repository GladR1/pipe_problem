{
 "cells": [
  {
   "cell_type": "code",
   "execution_count": 1,
   "id": "290aaba1",
   "metadata": {},
   "outputs": [],
   "source": [
    "import numpy as np\n",
    "from matplotlib import pyplot as plt\n",
    "import ipywidgets as widgets\n"
   ]
  },
  {
   "cell_type": "code",
   "execution_count": 2,
   "id": "7bd86e68",
   "metadata": {},
   "outputs": [],
   "source": [
    "def distort_image(x_ideal, y_ideal, k1, k2, k3, p1, p2):\n",
    "    r_squared = x_ideal**2 + y_ideal**2\n",
    "    r_4 = r_squared**2\n",
    "    r_6 = r_squared**3\n",
    "\n",
    "    x_distorted = (x_ideal * (1 + k1 * r_squared + k2 * r_4 + k3 * r_6) + \n",
    "                   2 * p1 * x_ideal * y_ideal + p2 * (r_squared + 2 * x_ideal**2))\n",
    "    \n",
    "    y_distorted = (y_ideal * (1 + k1 * r_squared + k2 * r_4 + k3 * r_6) + \n",
    "                   p1 * (r_squared + 2 * y_ideal**2) + 2 * p2 * x_ideal * y_ideal)\n",
    "    \n",
    "    return x_distorted, y_distorted"
   ]
  },
  {
   "cell_type": "code",
   "execution_count": 3,
   "id": "2b4e2968",
   "metadata": {},
   "outputs": [
    {
     "data": {
      "application/vnd.jupyter.widget-view+json": {
       "model_id": "a717a623ea4448bfb339baa63aab782c",
       "version_major": 2,
       "version_minor": 0
      },
      "text/plain": [
       "interactive(children=(FloatSlider(value=0.0, description='k1 * 1e-5:', max=1.0, min=-1.0), FloatSlider(value=0…"
      ]
     },
     "execution_count": 3,
     "metadata": {},
     "output_type": "execute_result"
    }
   ],
   "source": [
    "image = plt.imread('foma.jpg')\n",
    "k1_slider = widgets.FloatSlider(value=0, min=-1, max=1, step=0.1, description='k1 * 1e-5:')\n",
    "k2_slider = widgets.FloatSlider(value=0, min=-1, max=1, step=0.1, description='k2 * 1e-10:')\n",
    "k3_slider = widgets.FloatSlider(value=0, min=-1, max=1, step=0.1, description='k3 * 1e-15:')\n",
    "p1_slider = widgets.FloatSlider(value=0, min=-1, max=1, step=0.1, description='p1 * 1e-3:')\n",
    "p2_slider = widgets.FloatSlider(value=0, min=-1, max=1, step=0.1, description='p2 * 1e-3:')\n",
    "\n",
    "def update_distortion(k1, k2, k3, p1, p2):\n",
    "\n",
    "    k1, k2, k3, p1, p2 = k1 * 1e-5 , k2 * 1e-10, k3 * 1e-15, p1 * 1e-3, p2 * 1e-3\n",
    "    distorted_image = image.copy()\n",
    "\n",
    "    height, width, _ = distorted_image.shape\n",
    "    x_ideal, y_ideal = np.meshgrid(np.arange(width), np.arange(height))\n",
    "    \n",
    "\n",
    "    x_ideal = x_ideal - width / 2\n",
    "    y_ideal = y_ideal - height / 2\n",
    "    \n",
    "\n",
    "    x_distorted, y_distorted = distort_image(x_ideal, y_ideal, k1, k2, k3, p1, p2)\n",
    "    \n",
    "\n",
    "    x_distorted = np.clip(x_distorted + width / 2, 0, width - 1).astype(int)\n",
    "    y_distorted = np.clip(y_distorted + height / 2, 0, height - 1).astype(int)\n",
    "    \n",
    "\n",
    "    distorted_image = distorted_image[y_distorted, x_distorted]\n",
    "\n",
    "    plt.imshow(distorted_image)\n",
    "    plt.axis('off')\n",
    "    plt.show()\n",
    "\n",
    "widgets.interactive(update_distortion, k1=k1_slider, k2=k2_slider, k3=k3_slider, p1=p1_slider, p2=p2_slider)"
   ]
  }
 ],
 "metadata": {
  "kernelspec": {
   "display_name": ".venv",
   "language": "python",
   "name": "python3"
  },
  "language_info": {
   "codemirror_mode": {
    "name": "ipython",
    "version": 3
   },
   "file_extension": ".py",
   "mimetype": "text/x-python",
   "name": "python",
   "nbconvert_exporter": "python",
   "pygments_lexer": "ipython3",
   "version": "3.10.7"
  }
 },
 "nbformat": 4,
 "nbformat_minor": 5
}
